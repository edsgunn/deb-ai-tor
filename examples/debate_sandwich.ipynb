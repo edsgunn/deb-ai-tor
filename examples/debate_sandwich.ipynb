{
 "cells": [
  {
   "cell_type": "code",
   "execution_count": 1,
   "id": "e065d073",
   "metadata": {},
   "outputs": [],
   "source": [
    "import json\n",
    "\n",
    "from deb_ai_tor.environments import DebateSandwichEnv"
   ]
  },
  {
   "cell_type": "code",
   "execution_count": 2,
   "id": "ac8b5033",
   "metadata": {},
   "outputs": [
    {
     "name": "stdout",
     "output_type": "stream",
     "text": [
      "{\n",
      "    \"agent_0\": {\n",
      "        \"message\": \"Which of the following answers do you think is best?\\n\",\n",
      "        \"info\": \"Question: What is a debate sandwich?\\nAnswers: {'A': 'Arguments with answers in the middle', 'B': 'A sandwich eaten while debating', 'C': 'Answers with arguments in the middle'}\\n\"\n",
      "    },\n",
      "    \"agent_1\": {\n",
      "        \"message\": \"Which of the following answers do you think is best?\\n\",\n",
      "        \"info\": \"Question: What is a debate sandwich?\\nAnswers: {'A': 'Arguments with answers in the middle', 'B': 'A sandwich eaten while debating', 'C': 'Answers with arguments in the middle'}\\n\"\n",
      "    }\n",
      "}\n"
     ]
    }
   ],
   "source": [
    "agents = [\"agent_0\", \"agent_1\"]\n",
    "\n",
    "env = DebateSandwichEnv(agents=agents)\n",
    "obs = env.reset(options={\n",
    "    \"question\": \"What is a debate sandwich?\",\n",
    "    \"answers\": [\"Arguments with answers in the middle\", \"A sandwich eaten while debating\", \"Answers with arguments in the middle\"],\n",
    "    \"num_rounds\": 3,\n",
    "})\n",
    "\n",
    "print(json.dumps(obs, indent=4))"
   ]
  },
  {
   "cell_type": "code",
   "execution_count": 3,
   "id": "571d52fe",
   "metadata": {},
   "outputs": [
    {
     "name": "stdout",
     "output_type": "stream",
     "text": [
      "{\n",
      "    \"agent_0\": {\n",
      "        \"message\": \"Debate your choice of answer\\n\",\n",
      "        \"info\": {\n",
      "            \"agent_0\": \"A\",\n",
      "            \"agent_1\": \"C\"\n",
      "        }\n",
      "    },\n",
      "    \"agent_1\": {\n",
      "        \"message\": \"Debate your choice of answer\\n\",\n",
      "        \"info\": {\n",
      "            \"agent_0\": \"A\",\n",
      "            \"agent_1\": \"C\"\n",
      "        }\n",
      "    }\n",
      "}\n"
     ]
    }
   ],
   "source": [
    "actions = {\n",
    "    \"agent_0\": \"A\",\n",
    "    \"agent_1\": \"C\",\n",
    "}\n",
    "obs, rewards, terminations, truncations, infos = env.step(actions)\n",
    "print(json.dumps(obs, indent=4))"
   ]
  },
  {
   "cell_type": "code",
   "execution_count": 4,
   "id": "3f942f46",
   "metadata": {},
   "outputs": [
    {
     "name": "stdout",
     "output_type": "stream",
     "text": [
      "{\n",
      "    \"agent_0\": {\n",
      "        \"message\": \"Which of the following answers do you now think is best?\\n\",\n",
      "        \"info\": {\n",
      "            \"agent_0\": \"Really weak arguments for A.\",\n",
      "            \"agent_1\": \"Strong arguments for C.\"\n",
      "        }\n",
      "    },\n",
      "    \"agent_1\": {\n",
      "        \"message\": \"Which of the following answers do you now think is best?\\n\",\n",
      "        \"info\": {\n",
      "            \"agent_0\": \"Really weak arguments for A.\",\n",
      "            \"agent_1\": \"Strong arguments for C.\"\n",
      "        }\n",
      "    }\n",
      "}\n"
     ]
    }
   ],
   "source": [
    "actions = {\n",
    "    \"agent_0\": \"Really weak arguments for A.\",\n",
    "    \"agent_1\": \"Strong arguments for C.\",\n",
    "}\n",
    "obs, rewards, terminations, truncations, infos = env.step(actions)\n",
    "print(json.dumps(obs, indent=4))"
   ]
  },
  {
   "cell_type": "code",
   "execution_count": 5,
   "id": "9181daac",
   "metadata": {},
   "outputs": [
    {
     "name": "stdout",
     "output_type": "stream",
     "text": [
      "Rewards: {'agent_0': -1, 'agent_1': 1}\n",
      "env.initial_answers={'agent_0': 'A', 'agent_1': 'C'} env.final_answers={'agent_0': 'C', 'agent_1': 'C'}\n"
     ]
    }
   ],
   "source": [
    "actions = {\n",
    "    \"agent_0\": \"C\",\n",
    "    \"agent_1\": \"C\",\n",
    "}\n",
    "obs, rewards, terminations, truncations, infos = env.step(actions)\n",
    "print(\"Rewards:\", rewards)\n",
    "print(f\"{env.initial_answers=}\", f\"{env.final_answers=}\")"
   ]
  }
 ],
 "metadata": {
  "kernelspec": {
   "display_name": "venv",
   "language": "python",
   "name": "python3"
  },
  "language_info": {
   "codemirror_mode": {
    "name": "ipython",
    "version": 3
   },
   "file_extension": ".py",
   "mimetype": "text/x-python",
   "name": "python",
   "nbconvert_exporter": "python",
   "pygments_lexer": "ipython3",
   "version": "3.12.4"
  }
 },
 "nbformat": 4,
 "nbformat_minor": 5
}
