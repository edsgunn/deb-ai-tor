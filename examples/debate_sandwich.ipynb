{
 "cells": [
  {
   "cell_type": "code",
   "execution_count": 1,
   "id": "e065d073",
   "metadata": {},
   "outputs": [
    {
     "name": "stderr",
     "output_type": "stream",
     "text": [
      "/Users/edwardgunn/Documents/Projects/deb-ai-tor/venv/lib/python3.12/site-packages/tqdm/auto.py:21: TqdmWarning: IProgress not found. Please update jupyter and ipywidgets. See https://ipywidgets.readthedocs.io/en/stable/user_install.html\n",
      "  from .autonotebook import tqdm as notebook_tqdm\n"
     ]
    }
   ],
   "source": [
    "import json\n",
    "\n",
    "from transformers import pipeline\n",
    "\n",
    "from deb_ai_tor.environments import DebateSandwichEnv"
   ]
  },
  {
   "cell_type": "code",
   "execution_count": null,
   "id": "ac8b5033",
   "metadata": {},
   "outputs": [
    {
     "name": "stdout",
     "output_type": "stream",
     "text": [
      "{\n",
      "    \"agent_0\": {\n",
      "        \"message\": \"Which of the following answers do you think is best?\\n\",\n",
      "        \"info\": \"Question: What is a debate sandwich?\\nAnswers: {'A': 'Arguments with answers in the middle', 'B': 'A sandwich eaten while debating', 'C': 'Answers with arguments in the middle'}\\n\"\n",
      "    },\n",
      "    \"agent_1\": {\n",
      "        \"message\": \"Which of the following answers do you think is best?\\n\",\n",
      "        \"info\": \"Question: What is a debate sandwich?\\nAnswers: {'A': 'Arguments with answers in the middle', 'B': 'A sandwich eaten while debating', 'C': 'Answers with arguments in the middle'}\\n\"\n",
      "    }\n",
      "}\n"
     ]
    },
    {
     "name": "stderr",
     "output_type": "stream",
     "text": [
      "Fetching 3 files:   0%|          | 0/3 [00:00<?, ?it/s]"
     ]
    }
   ],
   "source": [
    "agents = [\"agent_0\", \"agent_1\"]\n",
    "\n",
    "env = DebateSandwichEnv(agents=agents)\n",
    "obs = env.reset(options={\n",
    "    \"question\": \"What is a debate sandwich?\",\n",
    "    \"answers\": [\"Arguments with answers in the middle\", \"A sandwich eaten while debating\", \"Answers with arguments in the middle\"],\n",
    "    \"num_rounds\": 3,\n",
    "})\n",
    "\n",
    "print(json.dumps(obs, indent=4))\n",
    "\n",
    "class LocalLLMAgent:\n",
    "    def __init__(self, agent_name, llm_pipeline):\n",
    "        self.agent_name = agent_name\n",
    "        self.llm = llm_pipeline\n",
    "        self.context = \"\"\n",
    "\n",
    "    def get_action(self, obs):\n",
    "        prompt = (\n",
    "            f\"Agent: {self.agent_name}\\n\"\n",
    "            f\"Previous context:\\n{self.context}\\n\"\n",
    "            f\"Observation: {json.dumps(obs, indent=2)}\\n\"\n",
    "            f\"What is your action?\"\n",
    "        )\n",
    "        response = self.llm(prompt, max_new_tokens=32)[0]['generated_text']\n",
    "        self.context += f\"\\nObservation: {json.dumps(obs, indent=2)}\\nAction: {response.strip()}\"\n",
    "        return response.strip()\n",
    "\n",
    "# Shared LLM pipeline for all agents\n",
    "llm_pipeline = pipeline('text-generation', model='mistralai/Mistral-7B-Instruct-v0.2', device_map='auto')\n",
    "\n",
    "# Create agent wrappers\n",
    "agent_wrappers = {name: LocalLLMAgent(name, llm_pipeline) for name in agents}"
   ]
  },
  {
   "cell_type": "code",
   "execution_count": null,
   "id": "571d52fe",
   "metadata": {},
   "outputs": [
    {
     "name": "stdout",
     "output_type": "stream",
     "text": [
      "{\n",
      "    \"agent_0\": {\n",
      "        \"message\": \"Debate your choice of answer\\n\",\n",
      "        \"info\": {\n",
      "            \"agent_0\": \"A\",\n",
      "            \"agent_1\": \"C\"\n",
      "        }\n",
      "    },\n",
      "    \"agent_1\": {\n",
      "        \"message\": \"Debate your choice of answer\\n\",\n",
      "        \"info\": {\n",
      "            \"agent_0\": \"A\",\n",
      "            \"agent_1\": \"C\"\n",
      "        }\n",
      "    }\n",
      "}\n"
     ]
    }
   ],
   "source": [
    "# Load a local LLM (change model name as needed)\n",
    "llm = pipeline('text-generation', model='mistralai/Mistral-7B-Instruct-v0.2', device_map='auto')\n",
    "\n",
    "def get_llm_action(agent, obs):\n",
    "    prompt = f\"Agent: {agent}\\nObservation: {json.dumps(obs[agent], indent=2)}\\nWhat is your action?\"\n",
    "    response = llm(prompt, max_new_tokens=32)[0]['generated_text']\n",
    "    # You may need to parse/clean the response to fit your env's expected action format\n",
    "    return response.strip()\n",
    "\n",
    "# Run a round using LLM agents\n",
    "actions = {name: agent_wrappers[name].get_action(obs[name]) for name in agents}\n",
    "obs, rewards, terminations, truncations, infos = env.step(actions)\n",
    "print(json.dumps(obs, indent=4))"
   ]
  }
 ],
 "metadata": {
  "kernelspec": {
   "display_name": "venv",
   "language": "python",
   "name": "python3"
  },
  "language_info": {
   "codemirror_mode": {
    "name": "ipython",
    "version": 3
   },
   "file_extension": ".py",
   "mimetype": "text/x-python",
   "name": "python",
   "nbconvert_exporter": "python",
   "pygments_lexer": "ipython3",
   "version": "3.12.4"
  }
 },
 "nbformat": 4,
 "nbformat_minor": 5
}
